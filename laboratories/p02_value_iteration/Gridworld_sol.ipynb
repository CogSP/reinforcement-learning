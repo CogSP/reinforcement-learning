{
  "cells": [
    {
      "cell_type": "markdown",
      "id": "c918c499",
      "metadata": {
        "id": "c918c499"
      },
      "source": [
        "# Second practical exercise: Grid World and Value iteration"
      ]
    },
    {
      "cell_type": "markdown",
      "id": "56fca4cd",
      "metadata": {
        "id": "56fca4cd"
      },
      "source": [
        "# A deterministic grid world"
      ]
    },
    {
      "cell_type": "markdown",
      "id": "dc2fc996",
      "metadata": {
        "id": "dc2fc996"
      },
      "source": [
        "Finite grid with some obstacles inside. The agent can move up, left, right and down."
      ]
    },
    {
      "cell_type": "markdown",
      "id": "57edf28d",
      "metadata": {
        "id": "57edf28d"
      },
      "source": [
        "![](imgs/grid_world.png)"
      ]
    },
    {
      "cell_type": "code",
      "execution_count": 5,
      "id": "b7541675",
      "metadata": {
        "colab": {
          "base_uri": "https://localhost:8080/"
        },
        "id": "b7541675",
        "outputId": "a1d5d013-babc-423f-e5de-8bcc7ae2facc"
      },
      "outputs": [
        {
          "output_type": "stream",
          "name": "stdout",
          "text": [
            "Requirement already satisfied: gymnasium in /usr/local/lib/python3.10/dist-packages (1.0.0)\n",
            "Requirement already satisfied: numpy>=1.21.0 in /usr/local/lib/python3.10/dist-packages (from gymnasium) (1.26.4)\n",
            "Requirement already satisfied: cloudpickle>=1.2.0 in /usr/local/lib/python3.10/dist-packages (from gymnasium) (2.2.1)\n",
            "Requirement already satisfied: typing-extensions>=4.3.0 in /usr/local/lib/python3.10/dist-packages (from gymnasium) (4.12.2)\n",
            "Requirement already satisfied: farama-notifications>=0.0.1 in /usr/local/lib/python3.10/dist-packages (from gymnasium) (0.0.4)\n"
          ]
        }
      ],
      "source": [
        "%pip install gymnasium"
      ]
    },
    {
      "cell_type": "code",
      "execution_count": 6,
      "id": "39fb2f78",
      "metadata": {
        "id": "39fb2f78"
      },
      "outputs": [],
      "source": [
        "#import\n",
        "import gymnasium as gym\n",
        "import numpy as np\n",
        "from gymnasium import spaces\n",
        "import random"
      ]
    },
    {
      "cell_type": "code",
      "execution_count": 7,
      "id": "0c0423ad",
      "metadata": {
        "id": "0c0423ad"
      },
      "outputs": [],
      "source": [
        "\n",
        "# custom 2d grid world enviroment\n",
        "class GridWorld(gym.Env):\n",
        "    metadata = {'render.modes': ['console']}\n",
        "\n",
        "\n",
        "    # actions available\n",
        "    UP = 0\n",
        "    LEFT = 1\n",
        "    DOWN = 2\n",
        "    RIGHT = 3\n",
        "\n",
        "\n",
        "    def __init__(self, width, height):\n",
        "        super(GridWorld, self).__init__()\n",
        "        self.ACTION_NAMES = [\"UP\", \"LEFT\", \"DOWN\", \"RIGHT\"]\n",
        "        self.num_actions = 4\n",
        "\n",
        "        self.size = width * height  # size of the grid world\n",
        "        self.num_states = self.size\n",
        "        self.width = width\n",
        "        self.height = height\n",
        "        self.num_obstacles = int((width+height)/2)\n",
        "        self.end_state = np.array([height - 1, width - 1], dtype=np.uint8) # goal state = bottom right cell\n",
        "\n",
        "        # actions of agents : up, down, left and right\n",
        "        self.action_space = spaces.Discrete(4)\n",
        "        # observation : cell indices in the grid\n",
        "        self.observation_space = spaces.MultiDiscrete([self.height, self.width])\n",
        "\n",
        "        self.obstacles = np.zeros((height, width))\n",
        "\n",
        "\n",
        "        # randomly creating num_obstacles obstacles and put it in the grid\n",
        "        for i in range(self.num_obstacles):\n",
        "            obstacle = random.randrange(height) , random.randrange(width)\n",
        "            while obstacle == (0, 0):\n",
        "                obstacle = random.randrange(height), random.randrange(width)\n",
        "            self.obstacles[obstacle] = 1\n",
        "\n",
        "        self.num_steps = 0\n",
        "        self.max_steps = height*width\n",
        "\n",
        "        self.current_state = np.zeros((2), np.uint8) # init state = [0,0]\n",
        "\n",
        "        self.directions = np.array([\n",
        "            [-1,0], #UP\n",
        "            [0,-1], #LEFT\n",
        "            [1,0], #DOWN\n",
        "            [0,1] #RIGHT\n",
        "        ])\n",
        "\n",
        "    def step(self, action):\n",
        "        s_prime = self.transition_function(self.current_state, action)\n",
        "        reward = self.reward_function(s_prime)\n",
        "        terminated, truncated = self.termination_condition(s_prime)\n",
        "\n",
        "        self.current_state = s_prime\n",
        "        self.num_steps += 1\n",
        "\n",
        "        return self.current_state, reward, terminated, truncated, None\n",
        "\n",
        "\n",
        "    def transition_function(self, s, a):\n",
        "\n",
        "        s_prime = s + self.directions[a]\n",
        "\n",
        "        # if any of the two coordinates are < 0\n",
        "        # it means that the agent is trying to go outside the grid\n",
        "        if (s_prime < 0).any(): return s\n",
        "\n",
        "        if s_prime[0] >= self.height: return s\n",
        "        if s_prime[1] >= self.width: return s\n",
        "        if self.obstacles[s_prime[0], s_prime[1]] == 1: return s\n",
        "\n",
        "        return s_prime\n",
        "\n",
        "\n",
        "    def reward_function(self,s):\n",
        "        r = 0\n",
        "\n",
        "        if (s == self.end_state).all():\n",
        "            r = 1\n",
        "\n",
        "        return r\n",
        "\n",
        "    def termination_condition(self, s):\n",
        "        truncated = False\n",
        "        terminated = False\n",
        "        #truncated= ???\n",
        "        #terminated= ???\n",
        "\n",
        "        truncated = self.num_steps >= self.max_steps\n",
        "        terminated = (s == self.end_state).all()\n",
        "\n",
        "        return terminated, truncated\n",
        "\n",
        "    def reset(self):\n",
        "        self.current_state = np.zeros((2), np.uint8)\n",
        "        self.num_steps = 0\n",
        "\n",
        "        return self.current_state\n",
        "\n",
        "    def render(self):\n",
        "        '''\n",
        "            render the state\n",
        "        '''\n",
        "\n",
        "        row = self.current_state[0]\n",
        "        col = self.current_state[1]\n",
        "\n",
        "        for r in range(self.height):\n",
        "            for c in range(self.width):\n",
        "                # print the position of the agent\n",
        "                if r == row and c == col:\n",
        "                    print(\"| A \", end='')\n",
        "                # print the position of the goal\n",
        "                elif r == self.end_state[0] and c == self.end_state[1]:\n",
        "                    print(\"| G \", end='')\n",
        "                else:\n",
        "                    # print the position of the obstacle\n",
        "                    if self.obstacles[r,c] == 1:\n",
        "                        print('|///', end='')\n",
        "                    else:\n",
        "                        print('|___', end='')\n",
        "            print('|')\n",
        "        print('\\n')"
      ]
    },
    {
      "cell_type": "markdown",
      "id": "79b573a8",
      "metadata": {
        "id": "79b573a8"
      },
      "source": [
        "Simulate all the four actions"
      ]
    },
    {
      "cell_type": "code",
      "execution_count": 8,
      "id": "0ed5bff8",
      "metadata": {
        "colab": {
          "base_uri": "https://localhost:8080/"
        },
        "id": "0ed5bff8",
        "outputId": "b3fb6645-89e8-43d9-da78-e25c2a7de593"
      },
      "outputs": [
        {
          "output_type": "stream",
          "name": "stdout",
          "text": [
            "| A |___|___|\n",
            "|///|___|///|\n",
            "|///|___|___|\n",
            "|___|___|___|\n",
            "|___|___| G |\n",
            "\n",
            "\n",
            "UP\n",
            "| A |___|___|\n",
            "|///|___|///|\n",
            "|///|___|___|\n",
            "|___|___|___|\n",
            "|___|___| G |\n",
            "\n",
            "\n",
            "LEFT\n",
            "| A |___|___|\n",
            "|///|___|///|\n",
            "|///|___|___|\n",
            "|___|___|___|\n",
            "|___|___| G |\n",
            "\n",
            "\n",
            "DOWN\n",
            "| A |___|___|\n",
            "|///|___|///|\n",
            "|///|___|___|\n",
            "|___|___|___|\n",
            "|___|___| G |\n",
            "\n",
            "\n",
            "RIGHT\n",
            "|___| A |___|\n",
            "|///|___|///|\n",
            "|///|___|___|\n",
            "|___|___|___|\n",
            "|___|___| G |\n",
            "\n",
            "\n"
          ]
        }
      ],
      "source": [
        "env = GridWorld(3,5)\n",
        "env.reset()\n",
        "env.render()\n",
        "\n",
        "action_sequence = [0,1,2,3]\n",
        "\n",
        "for a in action_sequence:\n",
        "    print(env.ACTION_NAMES[a])\n",
        "    env.step(a)\n",
        "    env.render()"
      ]
    },
    {
      "cell_type": "markdown",
      "id": "a4998a26",
      "metadata": {
        "id": "a4998a26"
      },
      "source": [
        "Simulate a random episode"
      ]
    },
    {
      "cell_type": "code",
      "execution_count": 9,
      "id": "b63f0500",
      "metadata": {
        "colab": {
          "base_uri": "https://localhost:8080/"
        },
        "id": "b63f0500",
        "outputId": "2a7f4879-edcb-40b8-ea33-7eddd5e272bb"
      },
      "outputs": [
        {
          "output_type": "stream",
          "name": "stdout",
          "text": [
            "UP\n",
            "| A |___|___|\n",
            "|///|___|///|\n",
            "|///|___|___|\n",
            "|___|___|___|\n",
            "|___|___| G |\n",
            "\n",
            "\n",
            "UP\n",
            "| A |___|___|\n",
            "|///|___|///|\n",
            "|///|___|___|\n",
            "|___|___|___|\n",
            "|___|___| G |\n",
            "\n",
            "\n",
            "DOWN\n",
            "| A |___|___|\n",
            "|///|___|///|\n",
            "|///|___|___|\n",
            "|___|___|___|\n",
            "|___|___| G |\n",
            "\n",
            "\n",
            "RIGHT\n",
            "|___| A |___|\n",
            "|///|___|///|\n",
            "|///|___|___|\n",
            "|___|___|___|\n",
            "|___|___| G |\n",
            "\n",
            "\n",
            "LEFT\n",
            "| A |___|___|\n",
            "|///|___|///|\n",
            "|///|___|___|\n",
            "|___|___|___|\n",
            "|___|___| G |\n",
            "\n",
            "\n",
            "LEFT\n",
            "| A |___|___|\n",
            "|///|___|///|\n",
            "|///|___|___|\n",
            "|___|___|___|\n",
            "|___|___| G |\n",
            "\n",
            "\n",
            "DOWN\n",
            "| A |___|___|\n",
            "|///|___|///|\n",
            "|///|___|___|\n",
            "|___|___|___|\n",
            "|___|___| G |\n",
            "\n",
            "\n",
            "RIGHT\n",
            "|___| A |___|\n",
            "|///|___|///|\n",
            "|///|___|___|\n",
            "|___|___|___|\n",
            "|___|___| G |\n",
            "\n",
            "\n",
            "DOWN\n",
            "|___|___|___|\n",
            "|///| A |///|\n",
            "|///|___|___|\n",
            "|___|___|___|\n",
            "|___|___| G |\n",
            "\n",
            "\n",
            "UP\n",
            "|___| A |___|\n",
            "|///|___|///|\n",
            "|///|___|___|\n",
            "|___|___|___|\n",
            "|___|___| G |\n",
            "\n",
            "\n",
            "RIGHT\n",
            "|___|___| A |\n",
            "|///|___|///|\n",
            "|///|___|___|\n",
            "|___|___|___|\n",
            "|___|___| G |\n",
            "\n",
            "\n",
            "RIGHT\n",
            "|___|___| A |\n",
            "|///|___|///|\n",
            "|///|___|___|\n",
            "|___|___|___|\n",
            "|___|___| G |\n",
            "\n",
            "\n",
            "UP\n",
            "|___|___| A |\n",
            "|///|___|///|\n",
            "|///|___|___|\n",
            "|___|___|___|\n",
            "|___|___| G |\n",
            "\n",
            "\n",
            "LEFT\n",
            "|___| A |___|\n",
            "|///|___|///|\n",
            "|///|___|___|\n",
            "|___|___|___|\n",
            "|___|___| G |\n",
            "\n",
            "\n",
            "DOWN\n",
            "|___|___|___|\n",
            "|///| A |///|\n",
            "|///|___|___|\n",
            "|___|___|___|\n",
            "|___|___| G |\n",
            "\n",
            "\n",
            "UP\n",
            "|___| A |___|\n",
            "|///|___|///|\n",
            "|///|___|___|\n",
            "|___|___|___|\n",
            "|___|___| G |\n",
            "\n",
            "\n"
          ]
        }
      ],
      "source": [
        "done = False\n",
        "env.reset()\n",
        "while not done:\n",
        "    action = env.action_space.sample()\n",
        "    print(env.ACTION_NAMES[action])\n",
        "    state, reward, terminated, truncated, _ = env.step(action)\n",
        "    done = terminated or truncated\n",
        "    env.render()\n"
      ]
    },
    {
      "cell_type": "markdown",
      "id": "5f55b2b3",
      "metadata": {
        "id": "5f55b2b3"
      },
      "source": [
        "## A non deterministic grid world"
      ]
    },
    {
      "cell_type": "markdown",
      "id": "61a7d325",
      "metadata": {
        "id": "61a7d325"
      },
      "source": [
        "The agent goes with probability p to the right cell, with probability 1 - p in a different cell"
      ]
    },
    {
      "cell_type": "code",
      "execution_count": 10,
      "id": "fbfb3164",
      "metadata": {
        "id": "fbfb3164"
      },
      "outputs": [],
      "source": [
        "class NonDeterministicGridWorld(GridWorld):\n",
        "    def __init__(self, width, height, p=0.8):\n",
        "        super(NonDeterministicGridWorld, self).__init__(width, height)\n",
        "        self.probability_right_action = p\n",
        "\n",
        "    # override the GridWorld method\n",
        "    def transition_function(self, s, a):\n",
        "\n",
        "        # with probability p, this one, that is the one the agent picked\n",
        "        # will be executed\n",
        "        s_prime = s + self.directions[a, :]\n",
        "\n",
        "        # with probability 1 - p the agent will move diagonally\n",
        "        if random.random() <= 1 - self.probability_right_action:\n",
        "\n",
        "            # 50% up-diagonal 50% down-diagonal\n",
        "            if random.random() < 0.5:\n",
        "                s_prime = s_prime + self.directions[(a+1)%self.num_actions, :]\n",
        "            else:\n",
        "                s_prime = s_prime + self.directions[(a-1)%self.num_actions, :]\n",
        "\n",
        "        if s_prime[0] < self.height and s_prime[1] < self.width and (s_prime >= 0).all():\n",
        "            if self.obstacles[s_prime[0], s_prime[1]] == 0 :\n",
        "                return s_prime\n",
        "\n",
        "        return s\n"
      ]
    },
    {
      "cell_type": "markdown",
      "id": "6dccd6e7",
      "metadata": {
        "id": "6dccd6e7"
      },
      "source": [
        "Simulate a random episode"
      ]
    },
    {
      "cell_type": "code",
      "execution_count": 11,
      "id": "2ad16ea7",
      "metadata": {
        "colab": {
          "base_uri": "https://localhost:8080/"
        },
        "id": "2ad16ea7",
        "outputId": "9ca08d8b-f2c8-4bc7-9140-782872c2ac0b"
      },
      "outputs": [
        {
          "output_type": "stream",
          "name": "stdout",
          "text": [
            "| A |___|///|\n",
            "|___|___|___|\n",
            "|///|///|___|\n",
            "|___|___|___|\n",
            "|___|///| G |\n",
            "\n",
            "\n"
          ]
        }
      ],
      "source": [
        "env = NonDeterministicGridWorld(3,5)\n",
        "env.reset()\n",
        "env.render()"
      ]
    },
    {
      "cell_type": "code",
      "execution_count": 12,
      "id": "5823a401",
      "metadata": {
        "colab": {
          "base_uri": "https://localhost:8080/"
        },
        "id": "5823a401",
        "outputId": "f438cb2e-021e-4430-a131-aee6346b0366"
      },
      "outputs": [
        {
          "output_type": "stream",
          "name": "stdout",
          "text": [
            "LEFT\n",
            "| A |___|///|\n",
            "|___|___|___|\n",
            "|///|///|___|\n",
            "|___|___|___|\n",
            "|___|///| G |\n",
            "\n",
            "\n",
            "RIGHT\n",
            "|___| A |///|\n",
            "|___|___|___|\n",
            "|///|///|___|\n",
            "|___|___|___|\n",
            "|___|///| G |\n",
            "\n",
            "\n",
            "RIGHT\n",
            "|___| A |///|\n",
            "|___|___|___|\n",
            "|///|///|___|\n",
            "|___|___|___|\n",
            "|___|///| G |\n",
            "\n",
            "\n",
            "RIGHT\n",
            "|___| A |///|\n",
            "|___|___|___|\n",
            "|///|///|___|\n",
            "|___|___|___|\n",
            "|___|///| G |\n",
            "\n",
            "\n",
            "RIGHT\n",
            "|___|___|///|\n",
            "|___|___| A |\n",
            "|///|///|___|\n",
            "|___|___|___|\n",
            "|___|///| G |\n",
            "\n",
            "\n",
            "LEFT\n",
            "|___| A |///|\n",
            "|___|___|___|\n",
            "|///|///|___|\n",
            "|___|___|___|\n",
            "|___|///| G |\n",
            "\n",
            "\n",
            "DOWN\n",
            "|___|___|///|\n",
            "|___| A |___|\n",
            "|///|///|___|\n",
            "|___|___|___|\n",
            "|___|///| G |\n",
            "\n",
            "\n",
            "RIGHT\n",
            "|___|___|///|\n",
            "|___|___| A |\n",
            "|///|///|___|\n",
            "|___|___|___|\n",
            "|___|///| G |\n",
            "\n",
            "\n",
            "RIGHT\n",
            "|___|___|///|\n",
            "|___|___| A |\n",
            "|///|///|___|\n",
            "|___|___|___|\n",
            "|___|///| G |\n",
            "\n",
            "\n",
            "DOWN\n",
            "|___|___|///|\n",
            "|___|___| A |\n",
            "|///|///|___|\n",
            "|___|___|___|\n",
            "|___|///| G |\n",
            "\n",
            "\n",
            "RIGHT\n",
            "|___|___|///|\n",
            "|___|___| A |\n",
            "|///|///|___|\n",
            "|___|___|___|\n",
            "|___|///| G |\n",
            "\n",
            "\n",
            "RIGHT\n",
            "|___|___|///|\n",
            "|___|___| A |\n",
            "|///|///|___|\n",
            "|___|___|___|\n",
            "|___|///| G |\n",
            "\n",
            "\n",
            "UP\n",
            "|___|___|///|\n",
            "|___|___| A |\n",
            "|///|///|___|\n",
            "|___|___|___|\n",
            "|___|///| G |\n",
            "\n",
            "\n",
            "LEFT\n",
            "|___|___|///|\n",
            "|___| A |___|\n",
            "|///|///|___|\n",
            "|___|___|___|\n",
            "|___|///| G |\n",
            "\n",
            "\n",
            "DOWN\n",
            "|___|___|///|\n",
            "|___| A |___|\n",
            "|///|///|___|\n",
            "|___|___|___|\n",
            "|___|///| G |\n",
            "\n",
            "\n",
            "DOWN\n",
            "|___|___|///|\n",
            "|___| A |___|\n",
            "|///|///|___|\n",
            "|___|___|___|\n",
            "|___|///| G |\n",
            "\n",
            "\n"
          ]
        }
      ],
      "source": [
        "done = False\n",
        "while not done:\n",
        "    action = env.action_space.sample()\n",
        "    print(env.ACTION_NAMES[action])\n",
        "    state, reward, terminated, truncated, _ = env.step(action)\n",
        "    done = terminated or truncated\n",
        "    env.render()"
      ]
    }
  ],
  "metadata": {
    "kernelspec": {
      "display_name": "Python 3 (ipykernel)",
      "language": "python",
      "name": "python3"
    },
    "language_info": {
      "codemirror_mode": {
        "name": "ipython",
        "version": 3
      },
      "file_extension": ".py",
      "mimetype": "text/x-python",
      "name": "python",
      "nbconvert_exporter": "python",
      "pygments_lexer": "ipython3",
      "version": "3.8.17"
    },
    "colab": {
      "provenance": []
    }
  },
  "nbformat": 4,
  "nbformat_minor": 5
}